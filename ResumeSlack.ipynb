{
 "cells": [
  {
   "cell_type": "code",
   "execution_count": 2,
   "id": "88be4b83-4abe-45ee-9079-3aa23b451d52",
   "metadata": {},
   "outputs": [],
   "source": [
    "import docx\n",
    "import re\n",
    "\n",
    "# Check for embedded images\n",
    "def check_images(doc):\n",
    "    image_count = sum(1 for rel in doc.part.rels.values() if \"image\" in rel.reltype)\n",
    "    return image_count"
   ]
  },
  {
   "cell_type": "code",
   "execution_count": 4,
   "id": "6c231bfc-0b11-4001-9842-05683991cee7",
   "metadata": {},
   "outputs": [],
   "source": [
    "# Extract basic information\n",
    "def extract_basic_info(text):\n",
    "    name_pattern = r\"^(\\w+\\s\\w+)\"\n",
    "    email_pattern = r\"[a-zA-Z0-9._%+-]+@[a-zA-Z0-9.-]+\\.[a-zA-Z]{2,}\"\n",
    "    phone_pattern = r\"\\b\\d{10}\\b\"\n",
    "    address_pattern = r\"\\d+\\s\\w+\\s\\w+\"\n",
    "\n",
    "    name = re.findall(name_pattern, text)\n",
    "    email = re.findall(email_pattern, text)\n",
    "    phone = re.findall(phone_pattern, text)\n",
    "    address = re.findall(address_pattern, text)\n",
    "\n",
    "    return {\n",
    "        'Name': name[0] if name else 'Not Found',\n",
    "        'Email': email[0] if email else 'Not Found',\n",
    "        'Phone': phone[0] if phone else 'Not Found',\n",
    "        'Address': address[0] if address else 'Not Found'\n",
    "    }"
   ]
  },
  {
   "cell_type": "code",
   "execution_count": 6,
   "id": "52d85b26-935f-4fce-9b43-f11900586ba9",
   "metadata": {},
   "outputs": [],
   "source": [
    "# Extract the Experience section\n",
    "def extract_experience(doc):\n",
    "    experience_text = []\n",
    "    recording = False\n",
    "    for para in doc.paragraphs:\n",
    "        if \"experience\" in para.text.lower():\n",
    "            recording = True\n",
    "        if recording:\n",
    "            experience_text.append(para.text)\n",
    "            if para.text.strip() == \"\":\n",
    "                break\n",
    "    return \"\\n\".join(experience_text)"
   ]
  },
  {
   "cell_type": "code",
   "execution_count": 8,
   "id": "2373e080-7240-4e8b-873e-f82f639b380a",
   "metadata": {},
   "outputs": [],
   "source": [
    "# Count number of pages (Approximation based on character count)\n",
    "def count_pages(doc):\n",
    "    total_chars = sum(len(para.text) for para in doc.paragraphs)\n",
    "    return max(1, total_chars // 1800)  # Rough estimate of 1800 characters per page\n"
   ]
  },
  {
   "cell_type": "code",
   "execution_count": 10,
   "id": "b84d8bdf-35e4-42af-8957-3f81d2b5bc39",
   "metadata": {},
   "outputs": [
    {
     "name": "stdin",
     "output_type": "stream",
     "text": [
      "Enter the full path to your .docx file:  E:\\Amrinder Business Analyst.docx\n"
     ]
    },
    {
     "name": "stdout",
     "output_type": "stream",
     "text": [
      "Loaded 146 paragraphs from the document!\n",
      "\n",
      "Images Count: 0\n",
      "\n",
      "Basic Information: {'Name': 'Amrinder Pelia', 'Email': 'amirindersingh1234@gmail.com', 'Phone': 'Not Found', 'Address': '10 years of'}\n",
      "\n",
      "Experience Section:\n",
      "Around 10 years of experience in Business process analysis, Business modeling and Business requirements gathering.\n",
      "Extensive experience with Banking and Mortgage clients.\n",
      "Expert in creating diagrams (Use case diagrams, flow charts, activity diagrams, sequence diagrams), use case document, test plans and test case documents.\n",
      "Worked closely with project Stakeholders, SMEs, staff to understand requirements and specifications for new applications along with re-engineering the existing application.\n",
      "Experience in interacting across the hierarchy from architects, to data modelers, underwriters and risk analyst.\n",
      "Experience in iterative agile project management methodology with Scrum to manage the software development life cycle (SDLC).\n",
      "Used MS Project to manage schedules, meet deadlines and plan resources in line with triple constraint. Followed up with weekly Project Status and organized Task Review meetings. Conducted status meetings, managed deadlines, and facilitated prioritization discussions.\n",
      "Writing skills in preparing business requirements documents (BRD), system requirements specifications (SRS) and technical design document (TDD) and defining project plans then translating business requirements/user expectations into detailed specifications employing UML.\n",
      "Performing GAP analysis to check the compatibility of the existing system infrastructure with the new business requirements, \n",
      "Conducting User Acceptance Testing (UAT) verifying performance, reliability and fault tolerance issues. Also familiar with testing tools (QC) to design as well as develop test plans and test scripts. \n",
      "Authored business and system requirements analyses and functional specifications with supporting business process flows (data modeling), Traceability matrices, risk analysis and concept of operations for systems utilizing company standards, processes, and procedures.\n",
      "Expertise at using MS Visio, MS Project, MS Excel, PowerPoint, and SharePoint.\n",
      "Good understanding of software development methodologies such as RUP, JAD, and RAD and hands on experience in formulating JAD sessions. \n",
      "\n",
      "Page Count: 8\n"
     ]
    }
   ],
   "source": [
    "# Main pipeline to process the resume\n",
    "def process_resume():\n",
    "    try:\n",
    "        # Load the .docx file\n",
    "        file_path = input(\"Enter the full path to your .docx file: \")\n",
    "        doc = docx.Document(file_path)\n",
    "        print(f\"Loaded {len(doc.paragraphs)} paragraphs from the document!\")\n",
    "\n",
    "        # Combine all paragraphs into a single text\n",
    "        text = '\\n'.join([para.text for para in doc.paragraphs])\n",
    "\n",
    "        # Get embedded images count\n",
    "        image_count = check_images(doc)\n",
    "        print(f\"\\nImages Count: {image_count}\")\n",
    "\n",
    "        # Extract basic information\n",
    "        basic_info = extract_basic_info(text)\n",
    "        print(f\"\\nBasic Information: {basic_info}\")\n",
    "\n",
    "        # Extract experience section\n",
    "        experience_section = extract_experience(doc)\n",
    "        print(f\"\\nExperience Section:\\n{experience_section}\")\n",
    "\n",
    "        # Count the number of pages\n",
    "        page_count = count_pages(doc)\n",
    "        print(f\"Page Count: {page_count}\")\n",
    "    except Exception as e:\n",
    "        print(f\"Error: {e}\")\n",
    "\n",
    "# Execute the process_resume function\n",
    "if __name__ == \"__main__\":\n",
    "    process_resume()"
   ]
  },
  {
   "cell_type": "code",
   "execution_count": null,
   "id": "d20eb14b-1af9-4f13-8554-f037f03664a0",
   "metadata": {},
   "outputs": [],
   "source": []
  }
 ],
 "metadata": {
  "kernelspec": {
   "display_name": "Python 3 (ipykernel)",
   "language": "python",
   "name": "python3"
  },
  "language_info": {
   "codemirror_mode": {
    "name": "ipython",
    "version": 3
   },
   "file_extension": ".py",
   "mimetype": "text/x-python",
   "name": "python",
   "nbconvert_exporter": "python",
   "pygments_lexer": "ipython3",
   "version": "3.12.3"
  }
 },
 "nbformat": 4,
 "nbformat_minor": 5
}
